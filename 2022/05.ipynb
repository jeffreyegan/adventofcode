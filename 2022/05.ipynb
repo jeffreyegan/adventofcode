{
 "cells": [
  {
   "cell_type": "markdown",
   "metadata": {},
   "source": [
    "# Day 5: Supply Stacks ---\n",
    "\n",
    "The expedition can depart as soon as the final supplies have been unloaded from the ships. Supplies are stored in stacks of marked crates, but because the needed supplies are buried under many other crates, the crates need to be rearranged.\n",
    "\n",
    "The ship has a giant cargo crane capable of moving crates between stacks. To ensure none of the crates get crushed or fall over, the crane operator will rearrange them in a series of carefully-planned steps. After the crates are rearranged, the desired crates will be at the top of each stack.\n",
    "\n",
    "The Elves don't want to interrupt the crane operator during this delicate procedure, but they forgot to ask her which crate will end up where, and they want to be ready to unload them as soon as possible so they can embark.\n",
    "\n",
    "They do, however, have a drawing of the starting stacks of crates and the rearrangement procedure (your puzzle input). For example:\n",
    "\n",
    "        [D]    \n",
    "        [N] [C]    \n",
    "        [Z] [M] [P]\n",
    "        1   2   3 \n",
    "\n",
    "        move 1 from 2 to 1\n",
    "        move 3 from 1 to 3\n",
    "        move 2 from 2 to 1\n",
    "        move 1 from 1 to 2\n",
    "\n",
    "In this example, there are three stacks of crates. Stack 1 contains two crates: crate Z is on the bottom, and crate N is on top. Stack 2 contains three crates; from bottom to top, they are crates M, C, and D. Finally, stack 3 contains a single crate, P.\n",
    "\n",
    "Then, the rearrangement procedure is given. In each step of the procedure, a quantity of crates is moved from one stack to a different stack. In the first step of the above rearrangement procedure, one crate is moved from stack 2 to stack 1, resulting in this configuration:\n",
    "\n",
    "        [D]        \n",
    "        [N] [C]    \n",
    "        [Z] [M] [P]\n",
    "        1   2   3 \n",
    "\n",
    "In the second step, three crates are moved from stack 1 to stack 3. Crates are moved one at a time, so the first crate to be moved (D) ends up below the second and third crates:\n",
    "\n",
    "                [Z]\n",
    "                [N]\n",
    "        [C] [D]\n",
    "        [M] [P]\n",
    "        1   2   3\n",
    "\n",
    "Then, both crates are moved from stack 2 to stack 1. Again, because crates are moved one at a time, crate C ends up below crate M:\n",
    "\n",
    "                [Z]\n",
    "                [N]\n",
    "        [M]     [D]\n",
    "        [C]     [P]\n",
    "        1   2   3\n",
    "\n",
    "Finally, one crate is moved from stack 1 to stack 2:\n",
    "\n",
    "                [Z]\n",
    "                [N]\n",
    "                [D]\n",
    "        [C] [M] [P]\n",
    "        1   2   3\n",
    "\n",
    "The Elves just need to know which crate will end up on top of each stack; in this example, the top crates are C in stack 1, M in stack 2, and Z in stack 3, so you should combine these together and give the Elves the message CMZ.\n",
    "\n",
    "After the rearrangement procedure completes, what crate ends up on top of each stack?\n",
    "\n",
    "                        [F] [Q]         [Q]        \n",
    "                [B]     [Q] [V] [D]     [S]        \n",
    "                [S] [P] [T] [R] [M]     [D]        \n",
    "                [J] [V] [W] [M] [F]     [J]     [J]\n",
    "                [Z] [G] [S] [W] [N] [D] [R]     [T]\n",
    "                [V] [M] [B] [G] [S] [C] [T] [V] [S]\n",
    "                [D] [S] [L] [J] [L] [G] [G] [F] [R]\n",
    "                [G] [Z] [C] [H] [C] [R] [H] [P] [D]\n",
    "                1   2   3   4   5   6   7   8   9 "
   ]
  },
  {
   "cell_type": "code",
   "execution_count": 27,
   "metadata": {},
   "outputs": [],
   "source": [
    "import numpy as np\n",
    "import re\n",
    "init = '''\n",
    "        [F] [Q]         [Q]        \n",
    "[B]     [Q] [V] [D]     [S]        \n",
    "[S] [P] [T] [R] [M]     [D]        \n",
    "[J] [V] [W] [M] [F]     [J]     [J]\n",
    "[Z] [G] [S] [W] [N] [D] [R]     [T]\n",
    "[V] [M] [B] [G] [S] [C] [T] [V] [S]\n",
    "[D] [S] [L] [J] [L] [G] [G] [F] [R]\n",
    "[G] [Z] [C] [H] [C] [R] [H] [P] [D]\n",
    " 1   2   3   4   5   6   7   8   9 \n",
    "'''"
   ]
  },
  {
   "cell_type": "code",
   "execution_count": 10,
   "metadata": {},
   "outputs": [
    {
     "name": "stdout",
     "output_type": "stream",
     "text": [
      "\n",
      "        [F] [Q]         [Q]        \n",
      "\n"
     ]
    }
   ],
   "source": [
    "print(init[0:37])"
   ]
  },
  {
   "cell_type": "code",
   "execution_count": 67,
   "metadata": {},
   "outputs": [],
   "source": [
    "stacks = {\n",
    "    1:['G', 'D', 'V', 'Z', 'J', 'S', 'B'],\n",
    "    2:['Z', 'S', 'M', 'G', 'V', 'P'],\n",
    "    3:['C', 'L', 'B', 'S', 'W', 'T', 'Q', 'F'],\n",
    "    4:['H', 'J', 'G', 'W', 'M', 'R', 'V', 'Q'],\n",
    "    5:['C', 'L', 'S', 'N', 'F', 'M', 'D'],\n",
    "    6:['R', 'G', 'C', 'D'],\n",
    "    7:['H', 'G', 'T', 'R', 'J', 'D', 'S', 'Q'],\n",
    "    8:['P', 'F', 'V'],\n",
    "    9:['D', 'R', 'S', 'T', 'J']\n",
    "}"
   ]
  },
  {
   "cell_type": "code",
   "execution_count": 68,
   "metadata": {},
   "outputs": [],
   "source": [
    "def move_items(stacks, qty, src, dst):\n",
    "    for q in range(qty):\n",
    "        item = stacks[src][-1]\n",
    "        stacks[dst].append(item)\n",
    "        del stacks[src][-1]\n",
    "    return stacks"
   ]
  },
  {
   "cell_type": "code",
   "execution_count": 69,
   "metadata": {},
   "outputs": [],
   "source": [
    "with open('data.txt', 'r') as f:\n",
    "    for h in range(11):  # skip stack init header\n",
    "        line = f.readline()\n",
    "    while not line == '':\n",
    "        cmd = line.split(' ')\n",
    "        stacks = move_items(stacks, int(cmd[1]), int(cmd[3]), int(cmd[5]))\n",
    "        line = f.readline()"
   ]
  },
  {
   "cell_type": "code",
   "execution_count": 70,
   "metadata": {},
   "outputs": [
    {
     "name": "stdout",
     "output_type": "stream",
     "text": [
      "W\n",
      "C\n",
      "Z\n",
      "T\n",
      "H\n",
      "T\n",
      "M\n",
      "P\n",
      "S\n"
     ]
    }
   ],
   "source": [
    "for key in stacks:\n",
    "    print(stacks[key][-1])"
   ]
  },
  {
   "cell_type": "markdown",
   "metadata": {},
   "source": [
    "## --- Part Two ---\n",
    "\n",
    "As you watch the crane operator expertly rearrange the crates, you notice the process isn't following your prediction.\n",
    "\n",
    "Some mud was covering the writing on the side of the crane, and you quickly wipe it away. The crane isn't a CrateMover 9000 - it's a CrateMover 9001.\n",
    "\n",
    "The CrateMover 9001 is notable for many new and exciting features: air conditioning, leather seats, an extra cup holder, and the ability to pick up and move multiple crates at once.\n",
    "\n",
    "Again considering the example above, the crates begin in the same configuration:\n",
    "\n",
    "        [D]    \n",
    "        [N] [C]    \n",
    "        [Z] [M] [P]\n",
    "        1   2   3 \n",
    "\n",
    "Moving a single crate from stack 2 to stack 1 behaves the same as before:\n",
    "\n",
    "        [D]        \n",
    "        [N] [C]    \n",
    "        [Z] [M] [P]\n",
    "        1   2   3 \n",
    "\n",
    "However, the action of moving three crates from stack 1 to stack 3 means that those three moved crates stay in the same order, resulting in this new configuration:\n",
    "\n",
    "                [D]\n",
    "                [N]\n",
    "        [C] [Z]\n",
    "        [M] [P]\n",
    "        1   2   3\n",
    "\n",
    "Next, as both crates are moved from stack 2 to stack 1, they retain their order as well:\n",
    "\n",
    "                [D]\n",
    "                [N]\n",
    "        [C]     [Z]\n",
    "        [M]     [P]\n",
    "        1   2   3\n",
    "\n",
    "Finally, a single crate is still moved from stack 1 to stack 2, but now it's crate C that gets moved:\n",
    "\n",
    "                [D]\n",
    "                [N]\n",
    "                [Z]\n",
    "        [M] [C] [P]\n",
    "        1   2   3\n",
    "\n",
    "In this example, the CrateMover 9001 has put the crates in a totally different order: MCD.\n",
    "\n",
    "Before the rearrangement process finishes, update your simulation so that the Elves know where they should stand to be ready to unload the final supplies. After the rearrangement procedure completes, what crate ends up on top of each stack?\n"
   ]
  },
  {
   "cell_type": "code",
   "execution_count": 84,
   "metadata": {},
   "outputs": [],
   "source": [
    "stacks = {\n",
    "    1:['G', 'D', 'V', 'Z', 'J', 'S', 'B'],\n",
    "    2:['Z', 'S', 'M', 'G', 'V', 'P'],\n",
    "    3:['C', 'L', 'B', 'S', 'W', 'T', 'Q', 'F'],\n",
    "    4:['H', 'J', 'G', 'W', 'M', 'R', 'V', 'Q'],\n",
    "    5:['C', 'L', 'S', 'N', 'F', 'M', 'D'],\n",
    "    6:['R', 'G', 'C', 'D'],\n",
    "    7:['H', 'G', 'T', 'R', 'J', 'D', 'S', 'Q'],\n",
    "    8:['P', 'F', 'V'],\n",
    "    9:['D', 'R', 'S', 'T', 'J']\n",
    "}"
   ]
  },
  {
   "cell_type": "code",
   "execution_count": 85,
   "metadata": {},
   "outputs": [],
   "source": [
    "def move_items(stacks, qty, src, dst):\n",
    "    items = stacks[src][-qty:]\n",
    "    for item in items:\n",
    "        stacks[dst].append(item)\n",
    "    del stacks[src][-qty:]\n",
    "    return stacks\n",
    "\n",
    "#stacks = {1:['a', 'b', 'c', 'd'], 2:['e', 'f', 'g']}\n",
    "#move_items(stacks, 3, 1, 2)\n",
    "#print(stacks)"
   ]
  },
  {
   "cell_type": "code",
   "execution_count": 86,
   "metadata": {},
   "outputs": [
    {
     "name": "stdout",
     "output_type": "stream",
     "text": [
      "B\n",
      "L\n",
      "S\n",
      "G\n",
      "J\n",
      "S\n",
      "D\n",
      "T\n",
      "S\n"
     ]
    }
   ],
   "source": [
    "with open('data.txt', 'r') as f:\n",
    "    for h in range(11):  # skip stack init header\n",
    "        line = f.readline()\n",
    "    while not line == '':\n",
    "        cmd = line.split(' ')\n",
    "        stacks = move_items(stacks, int(cmd[1]), int(cmd[3]), int(cmd[5]))\n",
    "        line = f.readline()\n",
    "\n",
    "for key in stacks:\n",
    "    print(stacks[key][-1])"
   ]
  },
  {
   "cell_type": "code",
   "execution_count": null,
   "metadata": {},
   "outputs": [],
   "source": []
  }
 ],
 "metadata": {
  "kernelspec": {
   "display_name": "Python 3.10.8 64-bit",
   "language": "python",
   "name": "python3"
  },
  "language_info": {
   "codemirror_mode": {
    "name": "ipython",
    "version": 3
   },
   "file_extension": ".py",
   "mimetype": "text/x-python",
   "name": "python",
   "nbconvert_exporter": "python",
   "pygments_lexer": "ipython3",
   "version": "3.10.8"
  },
  "orig_nbformat": 4,
  "vscode": {
   "interpreter": {
    "hash": "e7370f93d1d0cde622a1f8e1c04877d8463912d04d973331ad4851f04de6915a"
   }
  }
 },
 "nbformat": 4,
 "nbformat_minor": 2
}
